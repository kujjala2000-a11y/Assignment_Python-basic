{
  "nbformat": 4,
  "nbformat_minor": 0,
  "metadata": {
    "colab": {
      "provenance": []
    },
    "kernelspec": {
      "name": "python3",
      "display_name": "Python 3"
    },
    "language_info": {
      "name": "python"
    }
  },
  "cells": [
    {
      "cell_type": "markdown",
      "source": [
        "**Assignment : Python basic**"
      ],
      "metadata": {
        "id": "mI-TcyX63tWe"
      }
    },
    {
      "cell_type": "markdown",
      "source": [
        "\n",
        "\n",
        "**PYTHON BASICS THEORITICAL Q & A**\n",
        "\n",
        "1. What is Python, and why is it popular?\n",
        "  - Python is high level, interpreted programming language known for its simplicity, readability and versatility.\n",
        "  It is popular because: 1)Of easy syntax 2)Huge library support\n",
        "  3)Used in many fields like Data analysis, Data science, Automation, web developement etc.\n",
        "\n",
        "2. What is an interpreter in Python?\n",
        "  - An interpreter is a program that executes Python code line by line. It converts high-level code into machine code at run time, allowing immediate execution and debugging.\n",
        "\n",
        "3. What are pre-defined keywords in Python?\n",
        "  - Pre-defined keywords in Python are reserved keyword which user cannot use as variable are pre-defined keywords, examples are for, while, print, else, elif,class etc.\n",
        "\n",
        "4. Can keywords be used as variable names?\n",
        "  - No, python keywords cannot be used as variable names as these are reserved words that have special meaning in the language.no Using them as variable names will confuse the interpreter and cause an error.\n",
        "\n",
        "5. What is mutability in Python?\n",
        "  - Mutability means whether an object can be changed after it's creation. eg. List, Dictionary and set are mutable.\n",
        "\n",
        "6. Why are lists mutable, but tuples are immutable?\n",
        "  - Lists are designed for flexible data which can grow, shrink and made change while tuples are designed to use fixed data which can improve performance and safety.\n",
        "\n",
        "7. What is the difference between “==” and “is” operators in Python?\n",
        "  - \"==\" are used for check equality while \"is\" is used for checking memory eg. if a==9: -> check if a is equal to 9.\n",
        "\n",
        "8. What are logical operators in Python?\n",
        "  - Logical operators are used in Python to combine conditional statements. eg. AND, OR, NOT.\n",
        "\n",
        "9. What is type casting in Python?\n",
        "  - Type casting in python means converting data type of one variable into another.\n",
        "\n",
        "10. What is the difference between implicit and explicit type casting?\n",
        "  - implicit type casting: .When Python convert data type internally then its known as Implicit type casting -Explicit type casting: When user convert data type externally using int(), float(), str() and float(), then its known as Explicit type casting.\n",
        "\n",
        "11. What is the purpose of conditional statements in Python?\n",
        "  - The purpose of conditional statements in Python is to control the flow of program based on conditions.\n",
        "\n",
        "12. How does the elif statement work?\n",
        "  - elif statement is the another condition after the first if when the previous condition is false. - if(): statement() -elif(): statement() -else: statement().\n",
        "\n",
        "13. What is the difference between for and while loops?\n",
        "  - for: when we know the exact number of iteration -while: when the loop should continue based on a condition.\n",
        "\n",
        "14. Describe a scenario where a while loop is more suitable than a for loop.\n",
        "  - We use while loop when we dont know how many iteration or loop the statement will require."
      ],
      "metadata": {
        "id": "he-cnG6D2hlF"
      }
    },
    {
      "cell_type": "markdown",
      "source": [
        "**PYTHON BASICS PRACTICAL Q & A**"
      ],
      "metadata": {
        "id": "zz_kh7mL6uiN"
      }
    },
    {
      "cell_type": "code",
      "source": [
        "# Write a Python program to print \"Hello, World!\n",
        "\n",
        "print('Hello, World!')"
      ],
      "metadata": {
        "colab": {
          "base_uri": "https://localhost:8080/"
        },
        "id": "koeQj3YU6r-d",
        "outputId": "99688355-5e1b-4131-c5b7-c3a4d821b8dd"
      },
      "execution_count": null,
      "outputs": [
        {
          "output_type": "stream",
          "name": "stdout",
          "text": [
            "Hello, World!\n"
          ]
        }
      ]
    },
    {
      "cell_type": "code",
      "source": [
        "#Write a Python program that displays your name and age.\n",
        "\n",
        "name='Ujjala'\n",
        "age=25\n",
        "print('Myself:', name, 'and My age is:',age)\n"
      ],
      "metadata": {
        "colab": {
          "base_uri": "https://localhost:8080/"
        },
        "id": "d2y3KJVx6zPq",
        "outputId": "26ab11d8-3d7a-4798-ce07-f50e8daf9924"
      },
      "execution_count": null,
      "outputs": [
        {
          "output_type": "stream",
          "name": "stdout",
          "text": [
            "Myself: Ujjala and My age is: 25\n"
          ]
        }
      ]
    },
    {
      "cell_type": "code",
      "source": [
        "#Write code to print all the pre-defined keywords in Python using the keyword library.\n",
        "\n",
        "import keyword\n",
        "print(keyword.kwlist)"
      ],
      "metadata": {
        "colab": {
          "base_uri": "https://localhost:8080/"
        },
        "id": "Y8dVJ4TC6-U8",
        "outputId": "ebbdefa0-6352-4690-a602-6301abe635dd"
      },
      "execution_count": null,
      "outputs": [
        {
          "output_type": "stream",
          "name": "stdout",
          "text": [
            "['False', 'None', 'True', 'and', 'as', 'assert', 'async', 'await', 'break', 'class', 'continue', 'def', 'del', 'elif', 'else', 'except', 'finally', 'for', 'from', 'global', 'if', 'import', 'in', 'is', 'lambda', 'nonlocal', 'not', 'or', 'pass', 'raise', 'return', 'try', 'while', 'with', 'yield']\n"
          ]
        }
      ]
    },
    {
      "cell_type": "code",
      "source": [
        "#Write a program that checks if a given word is a Python keyword.\n",
        "\n",
        "import keyword\n",
        "word=input('Enter the word:')\n",
        "if keyword.iskeyword(word):\n",
        "  print('Yes given word is keyword: ',word)\n",
        "else:\n",
        "  print('No, given word is not keyword: ',word)"
      ],
      "metadata": {
        "colab": {
          "base_uri": "https://localhost:8080/"
        },
        "id": "993vV5uz7GGA",
        "outputId": "f3685ff5-a9cd-4e3c-c1e4-990f46eb0713"
      },
      "execution_count": null,
      "outputs": [
        {
          "output_type": "stream",
          "name": "stdout",
          "text": [
            "Enter the word:Right\n",
            "No, given word is not keyword:  Right\n"
          ]
        }
      ]
    },
    {
      "cell_type": "code",
      "source": [
        "#Create a list and tuple in Python, and demonstrate how attempting to change an element works differently for each.\n",
        "\n",
        "# Create a list and a tuple\n",
        "list = [10, 30, 60]\n",
        "tuple = (10, 40, 80)\n",
        "\n",
        "\n",
        "list[2]=(45)\n",
        "print(\"Modified list:\", list)\n",
        "\n",
        "# Try to change an element in the tuple\n",
        "try:\n",
        "    tuple[2] = 50\n",
        "except TypeError as e:\n",
        "    print(\"Error while modifying tuple:\", e)"
      ],
      "metadata": {
        "colab": {
          "base_uri": "https://localhost:8080/"
        },
        "id": "xV5GK6TP7NCU",
        "outputId": "f0a0cd93-aa55-4678-f8e3-920b4669c296"
      },
      "execution_count": null,
      "outputs": [
        {
          "output_type": "stream",
          "name": "stdout",
          "text": [
            "Modified list: [10, 30, 45]\n",
            "Error while modifying tuple: 'tuple' object does not support item assignment\n"
          ]
        }
      ]
    },
    {
      "cell_type": "code",
      "source": [
        "#Write a function to demonstrate the behavior of mutable and immutable arguments.\n",
        "\n",
        "list=['2','6','9']# list are mutable\n",
        "list.append(5)\n",
        "print (list)\n",
        "\n",
        "#tuple are immutable\n",
        "tuple=('2','5','9')\n",
        "# tuple[4]=6 # This line causes an error because tuples are immutable\n",
        "print(tuple )# they give a error"
      ],
      "metadata": {
        "colab": {
          "base_uri": "https://localhost:8080/"
        },
        "id": "Z7lZEIZu7coo",
        "outputId": "2fdf2930-20bb-4f52-bdfa-3cdc4b92258e"
      },
      "execution_count": null,
      "outputs": [
        {
          "output_type": "stream",
          "name": "stdout",
          "text": [
            "['2', '6', '9', 5]\n",
            "('2', '5', '9')\n"
          ]
        }
      ]
    },
    {
      "cell_type": "code",
      "source": [
        "#Write a program that performs basic arithmetic operations on two user-input numbers.\n",
        "\n",
        "a=int(input(\"enter number one:\"))\n",
        "b=int(input(\"enter number two:\"))\n",
        "print(\"addition:\",a+b)\n",
        "print(\"subtraction:\",a-b)\n",
        "print(\"multiplication:\",a*b)\n",
        "print(\"division:\",a/b)"
      ],
      "metadata": {
        "colab": {
          "base_uri": "https://localhost:8080/"
        },
        "id": "npHZ-WV57gzF",
        "outputId": "5f66e448-ed94-4147-b12d-156df9092599"
      },
      "execution_count": null,
      "outputs": [
        {
          "output_type": "stream",
          "name": "stdout",
          "text": [
            "enter number one:4\n",
            "enter number two:2\n",
            "addition: 6\n",
            "subtraction: 2\n",
            "multiplication: 8\n",
            "division: 2.0\n"
          ]
        }
      ]
    },
    {
      "cell_type": "code",
      "source": [
        "#Write a program to demonstrate the use of logical operators.\n",
        "\n",
        "a = 20\n",
        "b = 2\n",
        "\n",
        "# Logical AND\n",
        "print(\"AND:\", a > 5 and b > 2)\n",
        "\n",
        "# Logical OR\n",
        "print(\"OR:\", a < 5 or b > 2)\n",
        "\n",
        "# Logical NOT\n",
        "print(\"NOT:\", not(a > b))\n"
      ],
      "metadata": {
        "colab": {
          "base_uri": "https://localhost:8080/"
        },
        "id": "5hUvU9yj7jeX",
        "outputId": "d4129ab9-3cc0-4bad-cf2e-5777dc91b537"
      },
      "execution_count": null,
      "outputs": [
        {
          "output_type": "stream",
          "name": "stdout",
          "text": [
            "AND: False\n",
            "OR: False\n",
            "NOT: False\n"
          ]
        }
      ]
    },
    {
      "cell_type": "code",
      "source": [
        "#Write a Python program to convert user input from string to integer, float, and boolean types.\n",
        "\n",
        "user_input=input(\"enter a number:\")\n",
        "\n",
        "a=int(user_input)\n",
        "b=float(user_input)\n",
        "c=bool(user_input)\n",
        "\n",
        "print(\"int:\",a)\n",
        "print(\"float:\",b)\n",
        "print(\"bool:\",c)"
      ],
      "metadata": {
        "colab": {
          "base_uri": "https://localhost:8080/"
        },
        "id": "dtFYDsqr71It",
        "outputId": "2232f939-489f-4101-ede7-c1201e05480e"
      },
      "execution_count": null,
      "outputs": [
        {
          "output_type": "stream",
          "name": "stdout",
          "text": [
            "enter a number:40\n",
            "int: 40\n",
            "float: 40.0\n",
            "bool: True\n"
          ]
        }
      ]
    },
    {
      "cell_type": "code",
      "source": [
        "#Write code to demonstrate type casting with list elements.\n",
        "\n",
        "lst=['1','2','3']\n",
        "int_lst=[int(i) for i in lst]\n",
        "print(int_lst)"
      ],
      "metadata": {
        "colab": {
          "base_uri": "https://localhost:8080/"
        },
        "id": "BnGU5J_f74i6",
        "outputId": "2be014df-dde6-4ae6-cdd9-22ed4422081e"
      },
      "execution_count": null,
      "outputs": [
        {
          "output_type": "stream",
          "name": "stdout",
          "text": [
            "[1, 2, 3]\n"
          ]
        }
      ]
    },
    {
      "cell_type": "code",
      "source": [
        "#Write a program that checks if a number is positive, negative, or zero.\n",
        "\n",
        "num=float(input(\"Enter any number:\"))\n",
        "\n",
        "if num == 0:\n",
        "  print(\"Number is zero\")\n",
        "elif num >0:\n",
        "  print(\"Number is positive\")\n",
        "else:\n",
        "  print(\"Number is negative\")"
      ],
      "metadata": {
        "colab": {
          "base_uri": "https://localhost:8080/"
        },
        "id": "Hkm2acHa79h1",
        "outputId": "31ea8cf3-3518-4e64-eb4b-2c58a7ad064a"
      },
      "execution_count": null,
      "outputs": [
        {
          "output_type": "stream",
          "name": "stdout",
          "text": [
            "Enter any number:4\n",
            "Number is positive\n"
          ]
        }
      ]
    },
    {
      "cell_type": "code",
      "source": [
        "#Write a for loop to print numbers from 1 to 10.\n",
        "\n",
        "for i in range(1,11):\n",
        "  print(i)"
      ],
      "metadata": {
        "colab": {
          "base_uri": "https://localhost:8080/"
        },
        "id": "kGcaNL0Z8Aae",
        "outputId": "3eacfff6-5143-4cf9-fb98-f1bf716adf43"
      },
      "execution_count": null,
      "outputs": [
        {
          "output_type": "stream",
          "name": "stdout",
          "text": [
            "1\n",
            "2\n",
            "3\n",
            "4\n",
            "5\n",
            "6\n",
            "7\n",
            "8\n",
            "9\n",
            "10\n"
          ]
        }
      ]
    },
    {
      "cell_type": "code",
      "source": [
        "#Write a Python program to find the sum of all even numbers between 1 and 50.\n",
        "\n",
        "total = 0  # Initialize total to 0\n",
        "for i in range(2, 51, 2):\n",
        "  print(i)\n",
        "  total += i  # Add the even number to the total\n",
        "\n",
        "print(\"sum of even no:\", total)"
      ],
      "metadata": {
        "colab": {
          "base_uri": "https://localhost:8080/"
        },
        "id": "fQZQCkQK8FPg",
        "outputId": "e1f20daa-e515-4079-d2cb-347146c50adc"
      },
      "execution_count": null,
      "outputs": [
        {
          "output_type": "stream",
          "name": "stdout",
          "text": [
            "2\n",
            "4\n",
            "6\n",
            "8\n",
            "10\n",
            "12\n",
            "14\n",
            "16\n",
            "18\n",
            "20\n",
            "22\n",
            "24\n",
            "26\n",
            "28\n",
            "30\n",
            "32\n",
            "34\n",
            "36\n",
            "38\n",
            "40\n",
            "42\n",
            "44\n",
            "46\n",
            "48\n",
            "50\n",
            "sum of even no: 650\n"
          ]
        }
      ]
    },
    {
      "cell_type": "code",
      "source": [
        "##Write a program to reverse a string using a while loop.\n",
        "\n",
        "text = input(\"Enter a string: \")\n",
        "\n",
        "i = len(text) - 1\n",
        "rev = \"\"\n",
        "\n",
        "while i >= 0:\n",
        "    rev = rev + text[i]\n",
        "    i = i - 1\n",
        "\n",
        "print(\"Reversed string:\", rev)\n"
      ],
      "metadata": {
        "colab": {
          "base_uri": "https://localhost:8080/"
        },
        "id": "FPgxwjTH8H9S",
        "outputId": "75ac0f9d-75f9-4111-c821-bd006c40a1aa"
      },
      "execution_count": null,
      "outputs": [
        {
          "output_type": "stream",
          "name": "stdout",
          "text": [
            "Enter a string: UJJALA\n",
            "Reversed string: ALAJJU\n"
          ]
        }
      ]
    },
    {
      "cell_type": "code",
      "source": [
        "#Write a Python program to calculate the factorial of a number provided by the user using a while loop.\n",
        "\n",
        "num=int(input(\"enter a number:\"))\n",
        "fac = 1\n",
        "i = 1\n",
        "\n",
        "while i <= num:\n",
        "\tfac = fac * i\n",
        "\ti = i + 1\n",
        "\n",
        "print(\"factorial of \", num, \" is \", fac)"
      ],
      "metadata": {
        "colab": {
          "base_uri": "https://localhost:8080/"
        },
        "id": "rNwLHXRB8LUI",
        "outputId": "ae49a670-50a5-4e15-dea7-f2304f54cce1"
      },
      "execution_count": null,
      "outputs": [
        {
          "output_type": "stream",
          "name": "stdout",
          "text": [
            "enter a number:4\n",
            "factorial of  4  is  24\n"
          ]
        }
      ]
    }
  ]
}